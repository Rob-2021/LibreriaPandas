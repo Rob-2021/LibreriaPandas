{
 "cells": [
  {
   "cell_type": "code",
   "execution_count": 28,
   "metadata": {},
   "outputs": [],
   "source": [
    "import pandas as pd\n",
    "import matplotlib.pyplot as plt\n",
    "import numpy as np"
   ]
  },
  {
   "cell_type": "code",
   "execution_count": 29,
   "metadata": {},
   "outputs": [],
   "source": [
    "data = pd.read_csv('car.csv', header = None)"
   ]
  },
  {
   "cell_type": "code",
   "execution_count": 30,
   "metadata": {},
   "outputs": [],
   "source": [
    "data.columns = ['price', 'maintenance', 'n_doors', 'capacity', 'size_lug', 'safety', 'class']"
   ]
  },
  {
   "cell_type": "code",
   "execution_count": 31,
   "metadata": {},
   "outputs": [
    {
     "data": {
      "text/html": [
       "<div>\n",
       "<style scoped>\n",
       "    .dataframe tbody tr th:only-of-type {\n",
       "        vertical-align: middle;\n",
       "    }\n",
       "\n",
       "    .dataframe tbody tr th {\n",
       "        vertical-align: top;\n",
       "    }\n",
       "\n",
       "    .dataframe thead th {\n",
       "        text-align: right;\n",
       "    }\n",
       "</style>\n",
       "<table border=\"1\" class=\"dataframe\">\n",
       "  <thead>\n",
       "    <tr style=\"text-align: right;\">\n",
       "      <th></th>\n",
       "      <th>price</th>\n",
       "      <th>maintenance</th>\n",
       "      <th>n_doors</th>\n",
       "      <th>capacity</th>\n",
       "      <th>size_lug</th>\n",
       "      <th>safety</th>\n",
       "      <th>class</th>\n",
       "    </tr>\n",
       "  </thead>\n",
       "  <tbody>\n",
       "    <tr>\n",
       "      <th>332</th>\n",
       "      <td>vhigh</td>\n",
       "      <td>low</td>\n",
       "      <td>2</td>\n",
       "      <td>2</td>\n",
       "      <td>big</td>\n",
       "      <td>high</td>\n",
       "      <td>unacc</td>\n",
       "    </tr>\n",
       "    <tr>\n",
       "      <th>1479</th>\n",
       "      <td>low</td>\n",
       "      <td>high</td>\n",
       "      <td>4</td>\n",
       "      <td>more</td>\n",
       "      <td>med</td>\n",
       "      <td>low</td>\n",
       "      <td>unacc</td>\n",
       "    </tr>\n",
       "    <tr>\n",
       "      <th>930</th>\n",
       "      <td>med</td>\n",
       "      <td>vhigh</td>\n",
       "      <td>4</td>\n",
       "      <td>4</td>\n",
       "      <td>med</td>\n",
       "      <td>low</td>\n",
       "      <td>unacc</td>\n",
       "    </tr>\n",
       "  </tbody>\n",
       "</table>\n",
       "</div>"
      ],
      "text/plain": [
       "      price maintenance n_doors capacity size_lug safety  class\n",
       "332   vhigh         low       2        2      big   high  unacc\n",
       "1479    low        high       4     more      med    low  unacc\n",
       "930     med       vhigh       4        4      med    low  unacc"
      ]
     },
     "execution_count": 31,
     "metadata": {},
     "output_type": "execute_result"
    }
   ],
   "source": [
    "data.sample(3)"
   ]
  },
  {
   "cell_type": "code",
   "execution_count": 32,
   "metadata": {},
   "outputs": [],
   "source": [
    "data.price.replace(('vhigh', 'high', 'med', 'low'), (4, 3, 2, 1), inplace = True)\n",
    "data.maintenance.replace(('vhigh', 'high', 'med', 'low'), (4, 3, 2, 1), inplace = True)\n",
    "data.n_doors.replace(('2', '3', '4', '5more'), (1, 2, 3, 4), inplace = True)\n",
    "data.capacity.replace(('2', '4', 'more'), (1, 2, 3), inplace = True)\n",
    "data.size_lug.replace(('small', 'med', 'big'), (1, 2, 3), inplace = True)\n",
    "data.safety.replace(('low', 'med', 'high'), (1, 2, 3), inplace = True)"
   ]
  },
  {
   "cell_type": "code",
   "execution_count": 33,
   "metadata": {},
   "outputs": [],
   "source": [
    "data['class'].replace(('unacc', 'acc', 'good', 'vgood'), (1, 2, 3, 4), inplace = True)"
   ]
  },
  {
   "cell_type": "code",
   "execution_count": 34,
   "metadata": {},
   "outputs": [
    {
     "data": {
      "text/html": [
       "<div>\n",
       "<style scoped>\n",
       "    .dataframe tbody tr th:only-of-type {\n",
       "        vertical-align: middle;\n",
       "    }\n",
       "\n",
       "    .dataframe tbody tr th {\n",
       "        vertical-align: top;\n",
       "    }\n",
       "\n",
       "    .dataframe thead th {\n",
       "        text-align: right;\n",
       "    }\n",
       "</style>\n",
       "<table border=\"1\" class=\"dataframe\">\n",
       "  <thead>\n",
       "    <tr style=\"text-align: right;\">\n",
       "      <th></th>\n",
       "      <th>price</th>\n",
       "      <th>maintenance</th>\n",
       "      <th>n_doors</th>\n",
       "      <th>capacity</th>\n",
       "      <th>size_lug</th>\n",
       "      <th>safety</th>\n",
       "      <th>class</th>\n",
       "    </tr>\n",
       "  </thead>\n",
       "  <tbody>\n",
       "    <tr>\n",
       "      <th>0</th>\n",
       "      <td>4</td>\n",
       "      <td>4</td>\n",
       "      <td>1</td>\n",
       "      <td>1</td>\n",
       "      <td>1</td>\n",
       "      <td>1</td>\n",
       "      <td>1</td>\n",
       "    </tr>\n",
       "    <tr>\n",
       "      <th>1</th>\n",
       "      <td>4</td>\n",
       "      <td>4</td>\n",
       "      <td>1</td>\n",
       "      <td>1</td>\n",
       "      <td>1</td>\n",
       "      <td>2</td>\n",
       "      <td>1</td>\n",
       "    </tr>\n",
       "    <tr>\n",
       "      <th>2</th>\n",
       "      <td>4</td>\n",
       "      <td>4</td>\n",
       "      <td>1</td>\n",
       "      <td>1</td>\n",
       "      <td>1</td>\n",
       "      <td>3</td>\n",
       "      <td>1</td>\n",
       "    </tr>\n",
       "    <tr>\n",
       "      <th>3</th>\n",
       "      <td>4</td>\n",
       "      <td>4</td>\n",
       "      <td>1</td>\n",
       "      <td>1</td>\n",
       "      <td>2</td>\n",
       "      <td>1</td>\n",
       "      <td>1</td>\n",
       "    </tr>\n",
       "    <tr>\n",
       "      <th>4</th>\n",
       "      <td>4</td>\n",
       "      <td>4</td>\n",
       "      <td>1</td>\n",
       "      <td>1</td>\n",
       "      <td>2</td>\n",
       "      <td>2</td>\n",
       "      <td>1</td>\n",
       "    </tr>\n",
       "  </tbody>\n",
       "</table>\n",
       "</div>"
      ],
      "text/plain": [
       "   price  maintenance  n_doors  capacity  size_lug  safety  class\n",
       "0      4            4        1         1         1       1      1\n",
       "1      4            4        1         1         1       2      1\n",
       "2      4            4        1         1         1       3      1\n",
       "3      4            4        1         1         2       1      1\n",
       "4      4            4        1         1         2       2      1"
      ]
     },
     "execution_count": 34,
     "metadata": {},
     "output_type": "execute_result"
    }
   ],
   "source": [
    "data.head(5)"
   ]
  },
  {
   "cell_type": "markdown",
   "metadata": {},
   "source": [
    "Recomendacion de division\n",
    "\n",
    "80% aprendizaje\n",
    "\n",
    "20% pruebas"
   ]
  },
  {
   "cell_type": "code",
   "execution_count": 35,
   "metadata": {},
   "outputs": [],
   "source": [
    "dataset = data.values\n",
    "X = dataset[:, 0:6]\n",
    "Y = np.asarray(dataset[:,6], dtype = 'S6')"
   ]
  },
  {
   "cell_type": "code",
   "execution_count": 36,
   "metadata": {},
   "outputs": [],
   "source": [
    "from sklearn import tree\n",
    "from sklearn.model_selection import train_test_split, cross_val_score\n",
    "from sklearn import metrics"
   ]
  },
  {
   "cell_type": "code",
   "execution_count": 37,
   "metadata": {},
   "outputs": [],
   "source": [
    "X_Train, X_Test, Y_Train, Y_Test = train_test_split(X, Y, test_size = 0.2, random_state = 0)"
   ]
  },
  {
   "cell_type": "code",
   "execution_count": 38,
   "metadata": {},
   "outputs": [],
   "source": [
    "tr = tree.DecisionTreeClassifier(max_depth = 10)"
   ]
  },
  {
   "cell_type": "code",
   "execution_count": 39,
   "metadata": {},
   "outputs": [
    {
     "data": {
      "text/plain": [
       "DecisionTreeClassifier(max_depth=10)"
      ]
     },
     "execution_count": 39,
     "metadata": {},
     "output_type": "execute_result"
    }
   ],
   "source": [
    "tr.fit(X_Train, Y_Train)"
   ]
  },
  {
   "cell_type": "code",
   "execution_count": 40,
   "metadata": {},
   "outputs": [],
   "source": [
    "y_pred = tr.predict(X_Test)"
   ]
  },
  {
   "cell_type": "code",
   "execution_count": 41,
   "metadata": {},
   "outputs": [
    {
     "data": {
      "text/plain": [
       "array([b'1', b'1', b'1', b'1', b'1', b'3', b'1', b'2', b'2', b'1', b'1',\n",
       "       b'1', b'2', b'1', b'1', b'2', b'1', b'1', b'2', b'1', b'3', b'2',\n",
       "       b'2', b'1', b'1', b'1', b'1', b'1', b'1', b'1', b'3', b'2', b'1',\n",
       "       b'2', b'3', b'1', b'1', b'1', b'1', b'1', b'1', b'1', b'1', b'1',\n",
       "       b'4', b'1', b'1', b'2', b'1', b'1', b'1', b'1', b'1', b'1', b'1',\n",
       "       b'1', b'1', b'1', b'1', b'1', b'2', b'1', b'1', b'1', b'1', b'2',\n",
       "       b'1', b'1', b'1', b'1', b'1', b'2', b'1', b'2', b'2', b'2', b'1',\n",
       "       b'1', b'2', b'1', b'2', b'2', b'2', b'1', b'1', b'1', b'1', b'3',\n",
       "       b'1', b'1', b'1', b'2', b'1', b'1', b'1', b'4', b'1', b'2', b'2',\n",
       "       b'1', b'1', b'1', b'2', b'1', b'4', b'2', b'1', b'2', b'1', b'1',\n",
       "       b'1', b'1', b'1', b'2', b'1', b'3', b'1', b'1', b'1', b'1', b'1',\n",
       "       b'1', b'2', b'1', b'1', b'1', b'1', b'2', b'3', b'1', b'1', b'1',\n",
       "       b'2', b'1', b'1', b'1', b'1', b'1', b'1', b'1', b'1', b'1', b'1',\n",
       "       b'2', b'1', b'1', b'2', b'1', b'2', b'2', b'2', b'2', b'1', b'1',\n",
       "       b'1', b'2', b'1', b'1', b'1', b'1', b'2', b'1', b'1', b'1', b'2',\n",
       "       b'1', b'1', b'1', b'1', b'1', b'1', b'1', b'1', b'1', b'2', b'1',\n",
       "       b'1', b'1', b'1', b'1', b'2', b'2', b'2', b'1', b'2', b'1', b'3',\n",
       "       b'1', b'1', b'1', b'1', b'2', b'1', b'1', b'1', b'2', b'1', b'3',\n",
       "       b'1', b'1', b'1', b'1', b'2', b'1', b'1', b'1', b'1', b'1', b'1',\n",
       "       b'1', b'1', b'2', b'1', b'1', b'1', b'1', b'1', b'2', b'1', b'1',\n",
       "       b'1', b'2', b'1', b'4', b'1', b'1', b'1', b'4', b'1', b'1', b'1',\n",
       "       b'1', b'2', b'1', b'1', b'1', b'1', b'1', b'1', b'1', b'1', b'1',\n",
       "       b'1', b'1', b'3', b'1', b'2', b'1', b'1', b'1', b'1', b'1', b'3',\n",
       "       b'2', b'3', b'2', b'2', b'1', b'1', b'1', b'2', b'1', b'1', b'2',\n",
       "       b'1', b'1', b'4', b'1', b'2', b'1', b'1', b'1', b'2', b'1', b'2',\n",
       "       b'1', b'1', b'1', b'1', b'1', b'1', b'1', b'2', b'1', b'1', b'2',\n",
       "       b'1', b'4', b'3', b'1', b'1', b'1', b'1', b'1', b'1', b'1', b'1',\n",
       "       b'1', b'1', b'2', b'1', b'2', b'2', b'2', b'3', b'1', b'2', b'1',\n",
       "       b'2', b'1', b'3', b'2', b'1', b'1', b'1', b'1', b'1', b'1', b'1',\n",
       "       b'2', b'1', b'1', b'2', b'1', b'2', b'1', b'1', b'1', b'1', b'1',\n",
       "       b'2', b'1', b'3', b'1', b'3', b'1', b'1', b'1', b'4', b'1', b'1',\n",
       "       b'4', b'1', b'2', b'1', b'2'], dtype='|S6')"
      ]
     },
     "execution_count": 41,
     "metadata": {},
     "output_type": "execute_result"
    }
   ],
   "source": [
    "y_pred"
   ]
  },
  {
   "cell_type": "code",
   "execution_count": 43,
   "metadata": {},
   "outputs": [],
   "source": [
    "score = tr.score(X_Test, Y_Test)"
   ]
  },
  {
   "cell_type": "code",
   "execution_count": 44,
   "metadata": {},
   "outputs": [
    {
     "name": "stdout",
     "output_type": "stream",
     "text": [
      "Precision: 0.9769\n"
     ]
    }
   ],
   "source": [
    "print('Precision: %0.4f' % (score))"
   ]
  }
 ],
 "metadata": {
  "interpreter": {
   "hash": "bbe92bbf6a5f20e95422d9fdda456fd7ae57e7ab04a26b8614b38149a43fd775"
  },
  "kernelspec": {
   "display_name": "Python 3.9.12 64-bit",
   "language": "python",
   "name": "python3"
  },
  "language_info": {
   "codemirror_mode": {
    "name": "ipython",
    "version": 3
   },
   "file_extension": ".py",
   "mimetype": "text/x-python",
   "name": "python",
   "nbconvert_exporter": "python",
   "pygments_lexer": "ipython3",
   "version": "3.9.12"
  },
  "orig_nbformat": 4
 },
 "nbformat": 4,
 "nbformat_minor": 2
}
